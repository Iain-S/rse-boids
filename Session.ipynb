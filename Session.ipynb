{
 "cells": [
  {
   "cell_type": "markdown",
   "id": "6519071b-6a39-412f-bd94-00dcc553d5d5",
   "metadata": {},
   "source": [
    "- [ ] linting\n",
    "- [ ] refactoring\n",
    "- [ ] licenses and sharing\n",
    "- [ ] collaboration\n",
    "- [ ] reproducibility\n",
    "- [ ] testing\n",
    "- [ ] pure Python vs Numpy vs SciPy\n",
    "\n",
    "\n"
   ]
  },
  {
   "cell_type": "markdown",
   "id": "8f7d2828-f7de-44e3-bc6e-ce77b835d498",
   "metadata": {},
   "source": [
    "## Setup\n",
    "\n",
    "- Jupyter lab (installation and running)\n",
    "- Keyboard shortcuts\n"
   ]
  },
  {
   "cell_type": "markdown",
   "id": "28d96004-9772-4028-b7b9-ba82d1c99f99",
   "metadata": {},
   "source": [
    "## Pure Python\n",
    "\n",
    "See [boids_python1.ipynb](./boids_python1.ipynb)\n",
    "\n",
    "- [ ] hard coded axes limits\n",
    "- [ ] lists or tuples or dicts or classes?\n",
    "- [ ] `jupyter nbconvert --to python boids_python1.ipynb`\n",
    "- [ ] testing\n",
    "- [ ] naming\n",
    "- [ ] DRY / refactoring into functions\n",
    "\n",
    "```\n",
    "lower = [150, 300]\n",
    "upper = [200, 400]\n",
    "x_width = upper[0] - lower[0]\n",
    "y_width = upper[1] - lower[1]\n",
    "pos = []\n",
    "for i in range(10):\n",
    "    pos.append([randint(lower[0], upper[0]), randint(lower[1], upper[1])])\n",
    "```\n",
    "\n"
   ]
  },
  {
   "cell_type": "code",
   "execution_count": null,
   "id": "9acc2eda-ac78-4d26-87e2-791d2df9d24f",
   "metadata": {},
   "outputs": [],
   "source": []
  }
 ],
 "metadata": {
  "kernelspec": {
   "display_name": "Python 3 (ipykernel)",
   "language": "python",
   "name": "python3"
  },
  "language_info": {
   "codemirror_mode": {
    "name": "ipython",
    "version": 3
   },
   "file_extension": ".py",
   "mimetype": "text/x-python",
   "name": "python",
   "nbconvert_exporter": "python",
   "pygments_lexer": "ipython3",
   "version": "3.9.10"
  }
 },
 "nbformat": 4,
 "nbformat_minor": 5
}
