{
 "cells": [
  {
   "cell_type": "markdown",
   "id": "6519071b-6a39-412f-bd94-00dcc553d5d5",
   "metadata": {},
   "source": [
    "- [ ] linting\n",
    "- [ ] refactoring\n",
    "- [ ] licenses and sharing\n",
    "- [ ] collaboration\n",
    "- [ ] reproducibility\n",
    "- [ ] testing\n",
    "- [ ] pure Python vs Numpy vs SciPy\n",
    "\n",
    "\n"
   ]
  },
  {
   "cell_type": "markdown",
   "id": "8f7d2828-f7de-44e3-bc6e-ce77b835d498",
   "metadata": {},
   "source": [
    "## Setup\n",
    "\n",
    "- Jupyter lab (installation and running)\n",
    "- Keyboard shortcuts\n"
   ]
  },
  {
   "cell_type": "markdown",
   "id": "28d96004-9772-4028-b7b9-ba82d1c99f99",
   "metadata": {},
   "source": [
    "## Pure Python\n",
    "\n",
    "- [ ] hard coded axes limits\n",
    "- [ ] lists\n",
    "- [ ] \n",
    "\n",
    "\n",
    "```\n",
    "x_width = upper[0] - lower[0]\n",
    "y_width = upper[1] - lower[1]\n",
    "flock = []\n",
    "for i in range(n):\n",
    "    flock.append([randint(0, x_width) + lower[0], randint(0, y_width) + lower[1]])\n",
    "```\n",
    "\n",
    "```\n",
    "velocity_min = 10\n",
    "velocity_max = 40\n",
    "\n",
    "vel = []\n",
    "for i in range(n):\n",
    "    vel.append([randint(0, velocity_min - velocity_max), randint(velocity_min - velocity_max)])\n",
    "```"
   ]
  },
  {
   "cell_type": "code",
   "execution_count": null,
   "id": "9acc2eda-ac78-4d26-87e2-791d2df9d24f",
   "metadata": {},
   "outputs": [],
   "source": []
  }
 ],
 "metadata": {
  "kernelspec": {
   "display_name": "Python 3 (ipykernel)",
   "language": "python",
   "name": "python3"
  },
  "language_info": {
   "codemirror_mode": {
    "name": "ipython",
    "version": 3
   },
   "file_extension": ".py",
   "mimetype": "text/x-python",
   "name": "python",
   "nbconvert_exporter": "python",
   "pygments_lexer": "ipython3",
   "version": "3.9.10"
  }
 },
 "nbformat": 4,
 "nbformat_minor": 5
}
