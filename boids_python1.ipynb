{
 "cells": [
  {
   "cell_type": "code",
   "execution_count": null,
   "id": "ea613a2d-5cfb-4fe6-bb17-fe55289e228a",
   "metadata": {},
   "outputs": [],
   "source": [
    "from IPython.display import HTML\n",
    "from matplotlib import animation\n",
    "from matplotlib import pyplot as plt\n",
    "from random import randint\n",
    "\n",
    "help(randint)"
   ]
  },
  {
   "cell_type": "code",
   "execution_count": null,
   "id": "f4fae6c3-0a4a-4c42-8f8f-c4bc5ca72280",
   "metadata": {},
   "outputs": [],
   "source": [
    "lower = [150, 300]\n",
    "upper = [200, 400]\n",
    "x_width = upper[0]-lower[0]  # Whitespace\n",
    "y_width = upper[1]-lower[1]\n",
    "pos = []\n",
    "for i in range(10):\n",
    "    pos.append([randint(lower[0], upper[0]), randint(lower[1], upper[1])])"
   ]
  },
  {
   "cell_type": "code",
   "execution_count": null,
   "id": "b6e579cb-2d48-4746-9191-cb0b445f3ceb",
   "metadata": {},
   "outputs": [],
   "source": [
    "velocity_min = 10\n",
    "velocity_max = 40\n",
    "\n",
    "vel = []\n",
    "for i in range(10):\n",
    "    vel.append([randint(velocity_min, velocity_max), randint(velocity_min, velocity_max)])"
   ]
  },
  {
   "cell_type": "code",
   "execution_count": null,
   "id": "4a67a073-f939-4e8d-a4e3-af1adc69dd80",
   "metadata": {},
   "outputs": [],
   "source": [
    "\n",
    "\n",
    "x_vals = [p[0] for p in pos]\n",
    "y_vals = [p[1] for p in pos]\n",
    "\n",
    "plt.xlim(-0, 500)\n",
    "plt.ylim(-0, 500)\n",
    "\n",
    "scat = plt.scatter(x_vals, y_vals)\n",
    "\n",
    "# ?plt.scatter"
   ]
  },
  {
   "cell_type": "code",
   "execution_count": null,
   "id": "f65cea3e-1400-4b1d-ada1-1b0f6461c727",
   "metadata": {},
   "outputs": [],
   "source": [
    "def update_scatter(frames):\n",
    "\n",
    "    for i in range(len(pos)):\n",
    "        # Note this \n",
    "        pos[i] = pos[i] + vel[i]\n",
    "    \n",
    "    scat.set_offsets(pos)\n"
   ]
  },
  {
   "cell_type": "code",
   "execution_count": null,
   "id": "10880fcc-2a23-4c52-8492-f8848ccc2c35",
   "metadata": {},
   "outputs": [],
   "source": [
    "import matplotlib.animation as animation\n",
    "# %matplotlib inline\n",
    "# help(animation.FuncAnimation)\n",
    "\n",
    "\n",
    "anim = animation.FuncAnimation(scat.figure, update_scatter, frames=50, interval=50)\n",
    "HTML(anim.to_jshtml())\n",
    "# anim.save(\"boids_1.gif\", writer=animation.PillowWriter())\n",
    "# plt.show()"
   ]
  },
  {
   "cell_type": "code",
   "execution_count": null,
   "id": "bb8a7f22-ab99-4be5-a14e-4844c9580303",
   "metadata": {},
   "outputs": [],
   "source": [
    "# import time\n",
    "\n",
    "# pos = []\n",
    "# for i in range(10):\n",
    "#     pos.append([randint(0, x_width) + lower[0], randint(0, y_width) + lower[1]])\n",
    "\n",
    "# for i in range(10):\n",
    "    \n",
    "#     scat = plt.scatter(x_vals, y_vals)\n",
    "    \n",
    "    \n",
    "#     for i in range(len(pos)):\n",
    "#         pos[i][0] = pos[i][0] + vel[i][0]\n",
    "#         pos[i][1] = pos[i][1] + vel[i][1]\n",
    "        \n",
    "#     time.sleep(0.1)"
   ]
  },
  {
   "cell_type": "code",
   "execution_count": null,
   "id": "65d12c46-af44-45ea-9644-bcf5dde2ceff",
   "metadata": {},
   "outputs": [],
   "source": [
    "import numpy\n",
    "arr = numpy.random.random_sample(size=(2,10))\n",
    "arr.transpose()\n",
    "# ?numpy.random.random_sample"
   ]
  },
  {
   "cell_type": "code",
   "execution_count": null,
   "id": "2035829d-1c0a-4264-95d7-e0f9aff29cc4",
   "metadata": {},
   "outputs": [],
   "source": []
  }
 ],
 "metadata": {
  "kernelspec": {
   "display_name": "Python 3 (ipykernel)",
   "language": "python",
   "name": "python3"
  },
  "language_info": {
   "codemirror_mode": {
    "name": "ipython",
    "version": 3
   },
   "file_extension": ".py",
   "mimetype": "text/x-python",
   "name": "python",
   "nbconvert_exporter": "python",
   "pygments_lexer": "ipython3",
   "version": "3.9.10"
  }
 },
 "nbformat": 4,
 "nbformat_minor": 5
}
